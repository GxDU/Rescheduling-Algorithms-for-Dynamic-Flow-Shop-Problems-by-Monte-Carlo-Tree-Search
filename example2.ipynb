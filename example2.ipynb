{
 "cells": [
  {
   "cell_type": "code",
   "execution_count": 11,
   "metadata": {},
   "outputs": [
    {
     "name": "stdout",
     "output_type": "stream",
     "text": [
      "/home/du/Workspace/Projects/Scheduling/HFSP\n"
     ]
    }
   ],
   "source": [
    "import os\n",
    "import fspbenchmark\n",
    "import numpy as np\n",
    "import RSCD\n",
    "import multiprocessing as mp\n",
    "import time\n",
    "current_dir = os.path.dirname(os.path.realpath(\"example2.ipynb\"))\n",
    "print(current_dir)"
   ]
  },
  {
   "cell_type": "code",
   "execution_count": 12,
   "metadata": {},
   "outputs": [
    {
     "name": "stdout",
     "output_type": "stream",
     "text": [
      "[ 52 522]\n"
     ]
    }
   ],
   "source": [
    "# load instances\n",
    "ta_ins, ta_solu = fspbenchmark.import_taillard()\n",
    "ta_brkdlist = fspbenchmark.get_brkd_prob_ta()\n",
    "arv_times, ptime_list = fspbenchmark.get_new_jobs_ta(\"low\")\n",
    "print(arv_times[1])"
   ]
  },
  {
   "cell_type": "markdown",
   "metadata": {},
   "source": [
    "## MCTS"
   ]
  },
  {
   "cell_type": "code",
   "execution_count": 13,
   "metadata": {},
   "outputs": [],
   "source": [
    "# define experiment functions\n",
    "def exp_fsp1_uct_time_with_seed(param_pipeout, param_dfsp, ptime, time_budget, predict_length, scalar, seed, index, repeat, reward_version, return_version):\n",
    "    result = RSCD.exp_fsp1_uct_time_with_seed(param_dfsp, ptime, time_budget, predict_length, scalar, seed, index, repeat, reward_version, return_version)\n",
    "    param_pipeout.send(result)\n",
    "    # result = [makespan, runtime, number of rescheduling, thread index]"
   ]
  },
  {
   "cell_type": "code",
   "execution_count": 14,
   "metadata": {},
   "outputs": [
    {
     "name": "stdout",
     "output_type": "stream",
     "text": [
      "------ 0 ------\n",
      "[2005.0, 6.709186104, 4.0, 1.0]\n",
      "[2460.0, 13.430898083, 8.0, 0.0]\n"
     ]
    }
   ],
   "source": [
    "scalar = 5 # coefficient of upper confidence bound\n",
    "predict_length = 9999999\n",
    "reward_version = 0 # evaluate makespan of a leaf node without considering dynamic eventss\n",
    "return_version = 2 # return child node with most visit times\n",
    "num = 2 # number of threads\n",
    "for ind in range(0, 1):\n",
    "    temparray = np.zeros((num, 3))\n",
    "    print(\"------\", ind, \"------\")\n",
    "    ins = ta_ins[ind]\n",
    "    ext_ins = np.vstack([ins, ptime_list[ind]])\n",
    "    numj = ins.shape[0]\n",
    "    nums = ins.shape[1]\n",
    "    time_budget = numj*nums*0.015\n",
    "    # hfsp = RSCD.HFSP(nums, numj, ins, np.ones(nums))\n",
    "    hfsp = RSCD.HFSP(nums, numj, ins, np.ones(nums, dtype=int).tolist())\n",
    "    coded_solu = ta_solu[ind]\n",
    "    hfsp.set_solution(coded_solu[1:])\n",
    "    p_brkd = np.stack([ta_brkdlist[ind][0], ta_brkdlist[ind][1]], axis=0)\n",
    "    p_effi = np.stack([np.zeros_like(ta_brkdlist[ind][0]), np.zeros_like(ta_brkdlist[ind][1])], axis=0)\n",
    "    dfsp = RSCD.DFSP1(hfsp, p_brkd, p_effi, arv_times[ind])\n",
    "    param_list = [dfsp for i in range(num)]\n",
    "    ins_list = [ext_ins for i in range(num)]\n",
    " \n",
    "\n",
    "    plist = []\n",
    "    pipeout, pipein = mp.Pipe()\n",
    "\n",
    "    plist.clear()\n",
    "    for k in range(num):\n",
    "        p = mp.Process(target=exp_fsp1_uct_time_with_seed, args=(pipeout, param_list[k], ins_list[k], time_budget, predict_length, scalar, k, k, 10, reward_version, return_version))\n",
    "        p.start()\n",
    "        plist.append(p)\n",
    "    count = 0\n",
    "    for p in plist:\n",
    "        foo = pipein.recv()\n",
    "        print(foo)\n",
    "        # result_table_ta_seed_uct[ind][int(foo[-1])] = np.asarray(foo)[:-1]\n",
    "        temparray[int(foo[-1])] = np.asarray(foo)[:-1]\n",
    "        count += 1\n",
    "    np.save(current_dir+\"/results/ta_newjob/example/uct/ta_\"+str(ind+1)+\".npy\", temparray)\n"
   ]
  },
  {
   "cell_type": "markdown",
   "metadata": {},
   "source": [
    "## Rules and heuristics"
   ]
  },
  {
   "cell_type": "code",
   "execution_count": 15,
   "metadata": {},
   "outputs": [],
   "source": [
    "def exp_rs_seed(param_pipeout, param_dfsp, ptime, seed, index):\n",
    "    result = RSCD.exp_fsp1_rs_with_seed(param_dfsp, ptime, seed, index)\n",
    "    param_pipeout.send(result)\n",
    "def exp_spt_seed(param_pipeout, param_dfsp, ptime, seed, index):\n",
    "    result = RSCD.exp_fsp1_spt_with_seed(param_dfsp, ptime, seed, index)\n",
    "    param_pipeout.send(result)\n",
    "def exp_lpt_seed(param_pipeout, param_dfsp, ptime, seed, index):\n",
    "    result = RSCD.exp_fsp1_lpt_with_seed(param_dfsp, ptime, seed, index)\n",
    "    param_pipeout.send(result)\n",
    "def exp_neh_seed(param_pipeout, param_dfsp, ptime, seed, index):\n",
    "    result = RSCD.exp_fsp1_neh_with_seed(param_dfsp, ptime, seed, index)\n",
    "    param_pipeout.send(result)\n",
    "def exp_ritm_seed(param_pipeout, param_dfsp, ptime, seed, index):\n",
    "    result = RSCD.exp_fsp1_ritm_with_seed(param_dfsp, ptime, seed, index)\n",
    "    param_pipeout.send(result)"
   ]
  },
  {
   "cell_type": "code",
   "execution_count": 16,
   "metadata": {},
   "outputs": [
    {
     "name": "stdout",
     "output_type": "stream",
     "text": [
      "------ 0 ------\n",
      "[2465.0, 0.010681591, 8.0, 0.0]\n",
      "[2217.0, 0.008788696, 4.0, 1.0]\n"
     ]
    }
   ],
   "source": [
    "# Take spt for example\n",
    "num = 2 # number of threads\n",
    "for ind in range(0, 1):\n",
    "    temparray = np.zeros((num, 3))\n",
    "    print(\"------\", ind, \"------\")\n",
    "    ins = ta_ins[ind]\n",
    "    ext_ins = np.vstack([ins, ptime_list[ind]])\n",
    "    numj = ins.shape[0]\n",
    "    nums = ins.shape[1]\n",
    "    hfsp = RSCD.HFSP(nums, numj, ins, np.ones(nums, dtype=int).tolist())\n",
    "    coded_solu = ta_solu[ind]\n",
    "    hfsp.set_solution(coded_solu[1:])\n",
    "    p_brkd = np.stack([ta_brkdlist[ind][0], ta_brkdlist[ind][1]], axis=0)\n",
    "    p_effi = np.stack([np.zeros_like(ta_brkdlist[ind][0]), np.zeros_like(ta_brkdlist[ind][1])], axis=0)\n",
    "    dfsp = RSCD.DFSP1(hfsp, p_brkd, p_effi, arv_times[ind])\n",
    "    param_list = [dfsp for i in range(num)]\n",
    "    ins_list = [ext_ins for i in range(num)]\n",
    " \n",
    "\n",
    "    plist = []\n",
    "    pipeout, pipein = mp.Pipe()\n",
    "\n",
    "    plist.clear()\n",
    "    for k in range(num):\n",
    "        p = mp.Process(target=exp_spt_seed, args=(pipeout, param_list[k], ins_list[k],k,k,))\n",
    "        p.start()\n",
    "        plist.append(p)\n",
    "\n",
    "    for p in plist:\n",
    "        foo = pipein.recv()\n",
    "        print(foo)\n",
    "        # result_table_ta_seed_uct[ind][int(foo[-1])] = np.asarray(foo)[:-1]\n",
    "        temparray[int(foo[-1])] = np.asarray(foo)[:-1]\n",
    "        count += 1\n",
    "    np.save(current_dir+\"/results/ta_newjob/example/spt/ta_\"+str(ind+1)+\".npy\", temparray)\n",
    "\n"
   ]
  },
  {
   "cell_type": "markdown",
   "metadata": {},
   "source": [
    "## Metaheuristics"
   ]
  },
  {
   "cell_type": "code",
   "execution_count": 17,
   "metadata": {},
   "outputs": [],
   "source": [
    "def exp_fsp1_ig_time_with_seed(param_pipeout, param_dfsp, ptime, temperature, d, time_budget, seed, index):\n",
    "    result = RSCD.exp_fsp1_ig_time_with_seed(param_dfsp, ptime, temperature, d, time_budget, seed, index)\n",
    "    param_pipeout.send(result)\n",
    "def exp_fsp1_fta_time_with_seed(param_pipeout, param_dfsp, ptime, temperature, time_budget, seed, index):\n",
    "    result = RSCD.exp_fsp1_fta_time_with_seed(param_dfsp, ptime, temperature, time_budget, seed, index)\n",
    "    param_pipeout.send(result)"
   ]
  },
  {
   "cell_type": "code",
   "execution_count": 18,
   "metadata": {},
   "outputs": [
    {
     "name": "stdout",
     "output_type": "stream",
     "text": [
      "------ 0 ------\n",
      "[2091.0, 6.016784643, 4.0, 1.0]\n",
      "[2561.0, 12.01126515, 8.0, 0.0]\n"
     ]
    }
   ],
   "source": [
    "num = 2 # number of threads\n",
    "for ind in range(0, 1):\n",
    "    temparray = np.zeros((num, 3))\n",
    "    print(\"------\", ind, \"------\")\n",
    "    ins = ta_ins[ind]\n",
    "    temperature = np.average(ins)/10\n",
    "    ext_ins = np.vstack([ins, ptime_list[ind]])\n",
    "    numj = ins.shape[0]\n",
    "    nums = ins.shape[1]\n",
    "    time_budget = numj*nums*0.015\n",
    "    # hfsp = RSCD.HFSP(nums, numj, ins, np.ones(nums))\n",
    "    hfsp = RSCD.HFSP(nums, numj, ins, np.ones(nums, dtype=int).tolist())\n",
    "    coded_solu = ta_solu[ind]\n",
    "    hfsp.set_solution(coded_solu[1:])\n",
    "    p_brkd = np.stack([ta_brkdlist[ind][0], ta_brkdlist[ind][1]], axis=0)\n",
    "    p_effi = np.stack([np.zeros_like(ta_brkdlist[ind][0]), np.zeros_like(ta_brkdlist[ind][1])], axis=0)\n",
    "    dfsp = RSCD.DFSP1(hfsp, p_brkd, p_effi, arv_times[ind])\n",
    "    param_list = [dfsp for i in range(num)]\n",
    "    ins_list = [ext_ins for i in range(num)]\n",
    " \n",
    "\n",
    "    plist = []\n",
    "    pipeout, pipein = mp.Pipe()\n",
    "\n",
    "    plist.clear()\n",
    "    for k in range(num):\n",
    "        p = mp.Process(target=exp_fsp1_fta_time_with_seed, args=(pipeout, param_list[k], ins_list[k], temperature, time_budget, k, k))\n",
    "        p.start()\n",
    "        plist.append(p)\n",
    "    count = 0\n",
    "    for p in plist:\n",
    "        foo = pipein.recv()\n",
    "        print(foo)\n",
    "        # result_table_ta_seed_uct[ind][int(foo[-1])] = np.asarray(foo)[:-1]\n",
    "        temparray[int(foo[-1])] = np.asarray(foo)[:-1]\n",
    "        count += 1\n",
    "    np.save(current_dir+\"/results/ta_newjob/example/fta/ta_\"+str(ind+1)+\".npy\", temparray)\n"
   ]
  },
  {
   "cell_type": "markdown",
   "metadata": {},
   "source": [
    "# Load result"
   ]
  },
  {
   "cell_type": "code",
   "execution_count": 19,
   "metadata": {},
   "outputs": [
    {
     "name": "stdout",
     "output_type": "stream",
     "text": [
      "[[2.4650000e+03 1.0681591e-02 8.0000000e+00]\n",
      " [2.2170000e+03 8.7886960e-03 4.0000000e+00]]\n"
     ]
    }
   ],
   "source": [
    "result = np.load(current_dir+\"/results/ta_newjob/example/spt/ta_1.npy\")\n",
    "print(result)"
   ]
  },
  {
   "cell_type": "code",
   "execution_count": null,
   "metadata": {},
   "outputs": [],
   "source": []
  }
 ],
 "metadata": {
  "kernelspec": {
   "display_name": "py311",
   "language": "python",
   "name": "python3"
  },
  "language_info": {
   "codemirror_mode": {
    "name": "ipython",
    "version": 3
   },
   "file_extension": ".py",
   "mimetype": "text/x-python",
   "name": "python",
   "nbconvert_exporter": "python",
   "pygments_lexer": "ipython3",
   "version": "3.11.4"
  }
 },
 "nbformat": 4,
 "nbformat_minor": 2
}
